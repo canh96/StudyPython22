{
 "cells": [
  {
   "cell_type": "markdown",
   "metadata": {},
   "source": [
    "# 책 대여점 on jupyter Notebook"
   ]
  },
  {
   "cell_type": "markdown",
   "metadata": {},
   "source": [
    "만약 cx_oracle 모듈이 없으면 콘솔에서 설치할 것\n",
    "```shell\n",
    ">pip install cx_oracle\n",
    "```"
   ]
  },
  {
   "cell_type": "code",
   "execution_count": 13,
   "metadata": {},
   "outputs": [],
   "source": [
    "#cx_Oracle 모듈 첨부\n",
    "import cx_Oracle as ora"
   ]
  },
  {
   "cell_type": "markdown",
   "metadata": {},
   "source": [
    "# DB함수 연결\n",
    "```python\n",
    "myconn()\n",
    "```"
   ]
  },
  {
   "cell_type": "code",
   "execution_count": 14,
   "metadata": {},
   "outputs": [],
   "source": [
    "def myconn():\n",
    "    dsn = ora.makedsn('localhost', 1521, service_name = 'orcl')\n",
    "    conn = ora.connect(user = 'scott', password= 'tiger', dsn = dsn, encoding= 'utf-8')\n",
    "    return conn"
   ]
  },
  {
   "cell_type": "markdown",
   "metadata": {},
   "source": [
    "### divTbl 전체 조회함수\n",
    "사용법\n",
    "```python\n",
    "getAlldataFromDivtbl(conn) ##conn은 연결객체\n",
    "```"
   ]
  },
  {
   "cell_type": "code",
   "execution_count": 15,
   "metadata": {},
   "outputs": [
    {
     "name": "stdout",
     "output_type": "stream",
     "text": [
      "접속\n",
      "('i002', '자기계발')\n",
      "('I002', '자기계발')\n",
      "('B001', '공포/스릴러')\n",
      "('B002', '로맨스')\n",
      "('B003', '무협')\n",
      "('B004', '전쟁/역사')\n",
      "('B005', '추리')\n",
      "('B006', 'SF/판타지')\n",
      "('I001', '프로그래밍')\n",
      "('I003', '에세이')\n"
     ]
    }
   ],
   "source": [
    "def getAllDataFromDivtbl(conn) -> None:\n",
    "    cur = conn.cursor()\n",
    "    query = 'SELECT division, names FROM divtbl'\n",
    "\n",
    "    for row in cur.execute(query):\n",
    "        print(row)\n",
    "    \n",
    "    cur.close()\n",
    "\n",
    "conn = myconn()\n",
    "print('접속')\n",
    "\n",
    "getAllDataFromDivtbl(conn)"
   ]
  },
  {
   "cell_type": "markdown",
   "metadata": {},
   "source": [
    "##신규 장르 입력\n",
    "사용법\n",
    "```python\n",
    "tup = (division, names\n",
    "getAllDataFromDivtbl(conn, tup))\n",
    "```"
   ]
  },
  {
   "cell_type": "code",
   "execution_count": 56,
   "metadata": {},
   "outputs": [
    {
     "name": "stdout",
     "output_type": "stream",
     "text": [
      "장르추가 성공\n"
     ]
    },
    {
     "ename": "DatabaseError",
     "evalue": "ORA-00933: SQL 명령어가 올바르게 종료되지 않았습니다",
     "output_type": "error",
     "traceback": [
      "\u001b[1;31m---------------------------------------------------------------------------\u001b[0m",
      "\u001b[1;31mDatabaseError\u001b[0m                             Traceback (most recent call last)",
      "\u001b[1;32mc:\\STUDY\\StudyPython22\\jupyter\\jupyterentalbook-1.ipynb Cell 9'\u001b[0m in \u001b[0;36m<cell line: 12>\u001b[1;34m()\u001b[0m\n\u001b[0;32m     <a href='vscode-notebook-cell:/c%3A/STUDY/StudyPython22/jupyter/jupyterentalbook-1.ipynb#ch0000007?line=9'>10</a>\u001b[0m     setDataIntoDivtbl(conn, tup)\n\u001b[0;32m     <a href='vscode-notebook-cell:/c%3A/STUDY/StudyPython22/jupyter/jupyterentalbook-1.ipynb#ch0000007?line=10'>11</a>\u001b[0m \u001b[39mprint\u001b[39m(\u001b[39m'\u001b[39m\u001b[39m장르추가 성공\u001b[39m\u001b[39m'\u001b[39m)\n\u001b[1;32m---> <a href='vscode-notebook-cell:/c%3A/STUDY/StudyPython22/jupyter/jupyterentalbook-1.ipynb#ch0000007?line=11'>12</a>\u001b[0m getAllDataFromDivtbl(conn)\n",
      "\u001b[1;32mc:\\STUDY\\StudyPython22\\jupyter\\jupyterentalbook-1.ipynb Cell 11'\u001b[0m in \u001b[0;36mgetAllDataFromDivtbl\u001b[1;34m(conn)\u001b[0m\n\u001b[0;32m      <a href='vscode-notebook-cell:/c%3A/STUDY/StudyPython22/jupyter/jupyterentalbook-1.ipynb#ch0000010?line=2'>3</a>\u001b[0m cur \u001b[39m=\u001b[39m conn\u001b[39m.\u001b[39mcursor()\n\u001b[0;32m      <a href='vscode-notebook-cell:/c%3A/STUDY/StudyPython22/jupyter/jupyterentalbook-1.ipynb#ch0000010?line=3'>4</a>\u001b[0m query \u001b[39m=\u001b[39m \u001b[39m'\u001b[39m\u001b[39mSELECT idx, author, division, names, \u001b[39m\u001b[39m'\u001b[39m\\\n\u001b[0;32m      <a href='vscode-notebook-cell:/c%3A/STUDY/StudyPython22/jupyter/jupyterentalbook-1.ipynb#ch0000010?line=4'>5</a>\u001b[0m         \u001b[39m'\u001b[39m\u001b[39m       TO_CHAR(releasedate, \u001b[39m\u001b[39m\\'\u001b[39;00m\u001b[39mYYYY-MM-DD\u001b[39m\u001b[39m\\'\u001b[39;00m\u001b[39m)\u001b[39m\u001b[39m'\u001b[39m \\\n\u001b[0;32m      <a href='vscode-notebook-cell:/c%3A/STUDY/StudyPython22/jupyter/jupyterentalbook-1.ipynb#ch0000010?line=5'>6</a>\u001b[0m         \u001b[39m'\u001b[39m\u001b[39mFROM bookstbl\u001b[39m\u001b[39m'\u001b[39m \\\n\u001b[0;32m      <a href='vscode-notebook-cell:/c%3A/STUDY/StudyPython22/jupyter/jupyterentalbook-1.ipynb#ch0000010?line=6'>7</a>\u001b[0m         \u001b[39mf\u001b[39m\u001b[39m'\u001b[39m\u001b[39mWHERE names LIKE \u001b[39m\u001b[39m\\'\u001b[39;00m\u001b[39m%\u001b[39m\u001b[39m{\u001b[39;00mnames\u001b[39m}\u001b[39;00m\u001b[39m%\u001b[39m\u001b[39m\\'\u001b[39;00m\u001b[39m \u001b[39m\u001b[39m'\u001b[39m\\\n\u001b[0;32m      <a href='vscode-notebook-cell:/c%3A/STUDY/StudyPython22/jupyter/jupyterentalbook-1.ipynb#ch0000010?line=7'>8</a>\u001b[0m         \u001b[39m'\u001b[39m\u001b[39mORDER BY IDX asc \u001b[39m\u001b[39m'\u001b[39m\n\u001b[1;32m---> <a href='vscode-notebook-cell:/c%3A/STUDY/StudyPython22/jupyter/jupyterentalbook-1.ipynb#ch0000010?line=9'>10</a>\u001b[0m \u001b[39mfor\u001b[39;00m row \u001b[39min\u001b[39;00m cur\u001b[39m.\u001b[39;49mexecute(query):\n\u001b[0;32m     <a href='vscode-notebook-cell:/c%3A/STUDY/StudyPython22/jupyter/jupyterentalbook-1.ipynb#ch0000010?line=10'>11</a>\u001b[0m     \u001b[39mprint\u001b[39m(row)\n\u001b[0;32m     <a href='vscode-notebook-cell:/c%3A/STUDY/StudyPython22/jupyter/jupyterentalbook-1.ipynb#ch0000010?line=12'>13</a>\u001b[0m cur\u001b[39m.\u001b[39mclose()\n",
      "\u001b[1;31mDatabaseError\u001b[0m: ORA-00933: SQL 명령어가 올바르게 종료되지 않았습니다"
     ]
    }
   ],
   "source": [
    "def setDataIntoDivtbl(conn,tup):\n",
    "    cur = conn.cursor()\n",
    "    query = 'INSERT INTO divtbl VALUES (:1, :2)'\n",
    "    cur.execute(query, tup)\n",
    "    conn.commit()\n",
    "    cur.close()\n",
    "\n",
    "    division, names = input('장르코드, 장르명 입력(구분자,)').split('/')\n",
    "    tup = (division.strip(), names.strip())\n",
    "    setDataIntoDivtbl(conn, tup)\n",
    "print('장르추가 성공')\n",
    "getAllDataFromDivtbl(conn)"
   ]
  },
  {
   "cell_type": "code",
   "execution_count": 55,
   "metadata": {},
   "outputs": [],
   "source": [
    "def getDataFromBookstbl(conn) -> None:\n",
    "    cur = conn.cursor()\n",
    "    query = 'SELECT idx, author, division, names,'\\\n",
    "            '       TO_CHAR(releasedate, \\'YYYY-MM-DD\\')' \\\n",
    "            'FROM bookstbl' \\\n",
    "            'ORDER BY IDX asc '\n",
    "    \n",
    "    for row in cur.execute(query):\n",
    "        print(row)    \n",
    "    \n",
    "    cur.close() \n",
    "\n",
    "    getDataFromBookstbl(conn)"
   ]
  },
  {
   "cell_type": "code",
   "execution_count": 58,
   "metadata": {},
   "outputs": [],
   "source": [
    "def getDataFromBookstbl(conn) -> None:\n",
    "    names = input('검색할 책이름을 입력하세요.')\n",
    "    cur = conn.cursor()\n",
    "    query = 'SELECT idx, author, division, names, '\\\n",
    "            '       TO_CHAR(releasedate, \\'YYYY-MM-DD\\')' \\\n",
    "            'FROM bookstbl' \\\n",
    "            f'WHERE names LIKE \\'%{names}%\\' '\\\n",
    "            'ORDER BY IDX asc '\n",
    "    \n",
    "    for row in cur.execute(query):\n",
    "        print(row)\n",
    "    \n",
    "    cur.close()\n",
    "\n"
   ]
  },
  {
   "cell_type": "code",
   "execution_count": 59,
   "metadata": {},
   "outputs": [
    {
     "ename": "DatabaseError",
     "evalue": "ORA-00933: SQL 명령어가 올바르게 종료되지 않았습니다",
     "output_type": "error",
     "traceback": [
      "\u001b[1;31m---------------------------------------------------------------------------\u001b[0m",
      "\u001b[1;31mDatabaseError\u001b[0m                             Traceback (most recent call last)",
      "\u001b[1;32mc:\\STUDY\\StudyPython22\\jupyter\\jupyterentalbook-1.ipynb Cell 12'\u001b[0m in \u001b[0;36m<cell line: 1>\u001b[1;34m()\u001b[0m\n\u001b[1;32m----> <a href='vscode-notebook-cell:/c%3A/STUDY/StudyPython22/jupyter/jupyterentalbook-1.ipynb#ch0000011?line=0'>1</a>\u001b[0m getDataFromBookstbl(conn)\n",
      "\u001b[1;32mc:\\STUDY\\StudyPython22\\jupyter\\jupyterentalbook-1.ipynb Cell 11'\u001b[0m in \u001b[0;36mgetDataFromBookstbl\u001b[1;34m(conn)\u001b[0m\n\u001b[0;32m      <a href='vscode-notebook-cell:/c%3A/STUDY/StudyPython22/jupyter/jupyterentalbook-1.ipynb#ch0000010?line=2'>3</a>\u001b[0m cur \u001b[39m=\u001b[39m conn\u001b[39m.\u001b[39mcursor()\n\u001b[0;32m      <a href='vscode-notebook-cell:/c%3A/STUDY/StudyPython22/jupyter/jupyterentalbook-1.ipynb#ch0000010?line=3'>4</a>\u001b[0m query \u001b[39m=\u001b[39m \u001b[39m'\u001b[39m\u001b[39mSELECT idx, author, division, names, \u001b[39m\u001b[39m'\u001b[39m\\\n\u001b[0;32m      <a href='vscode-notebook-cell:/c%3A/STUDY/StudyPython22/jupyter/jupyterentalbook-1.ipynb#ch0000010?line=4'>5</a>\u001b[0m         \u001b[39m'\u001b[39m\u001b[39m       TO_CHAR(releasedate, \u001b[39m\u001b[39m\\'\u001b[39;00m\u001b[39mYYYY-MM-DD\u001b[39m\u001b[39m\\'\u001b[39;00m\u001b[39m)\u001b[39m\u001b[39m'\u001b[39m \\\n\u001b[0;32m      <a href='vscode-notebook-cell:/c%3A/STUDY/StudyPython22/jupyter/jupyterentalbook-1.ipynb#ch0000010?line=5'>6</a>\u001b[0m         \u001b[39m'\u001b[39m\u001b[39mFROM bookstbl\u001b[39m\u001b[39m'\u001b[39m \\\n\u001b[0;32m      <a href='vscode-notebook-cell:/c%3A/STUDY/StudyPython22/jupyter/jupyterentalbook-1.ipynb#ch0000010?line=6'>7</a>\u001b[0m         \u001b[39mf\u001b[39m\u001b[39m'\u001b[39m\u001b[39mWHERE names LIKE \u001b[39m\u001b[39m\\'\u001b[39;00m\u001b[39m%\u001b[39m\u001b[39m{\u001b[39;00mnames\u001b[39m}\u001b[39;00m\u001b[39m%\u001b[39m\u001b[39m\\'\u001b[39;00m\u001b[39m \u001b[39m\u001b[39m'\u001b[39m\\\n\u001b[0;32m      <a href='vscode-notebook-cell:/c%3A/STUDY/StudyPython22/jupyter/jupyterentalbook-1.ipynb#ch0000010?line=7'>8</a>\u001b[0m         \u001b[39m'\u001b[39m\u001b[39mORDER BY IDX asc \u001b[39m\u001b[39m'\u001b[39m\n\u001b[1;32m---> <a href='vscode-notebook-cell:/c%3A/STUDY/StudyPython22/jupyter/jupyterentalbook-1.ipynb#ch0000010?line=9'>10</a>\u001b[0m \u001b[39mfor\u001b[39;00m row \u001b[39min\u001b[39;00m cur\u001b[39m.\u001b[39;49mexecute(query):\n\u001b[0;32m     <a href='vscode-notebook-cell:/c%3A/STUDY/StudyPython22/jupyter/jupyterentalbook-1.ipynb#ch0000010?line=10'>11</a>\u001b[0m     \u001b[39mprint\u001b[39m(row)\n\u001b[0;32m     <a href='vscode-notebook-cell:/c%3A/STUDY/StudyPython22/jupyter/jupyterentalbook-1.ipynb#ch0000010?line=12'>13</a>\u001b[0m cur\u001b[39m.\u001b[39mclose()\n",
      "\u001b[1;31mDatabaseError\u001b[0m: ORA-00933: SQL 명령어가 올바르게 종료되지 않았습니다"
     ]
    }
   ],
   "source": [
    "getDataFromBookstbl(conn)"
   ]
  },
  {
   "cell_type": "markdown",
   "metadata": {},
   "source": [
    "### 삭제함수\n",
    "사용법\n",
    "```python\n",
    "pass\n",
    "```"
   ]
  },
  {
   "cell_type": "code",
   "execution_count": 36,
   "metadata": {},
   "outputs": [],
   "source": [
    "def getAllDataFromDivtbl(conn):\n",
    "    division = input('삭제할 코드명 입력(예: I004)')\n",
    "    cur = conn.cursor()\n",
    "    query = 'DELETE FROM divtbl WHERE division = :1 '\n",
    "    tup = (division, )  #튜플 하나짜리는 왼쪽처럼 만들어야함 조심!!\n",
    "    cur.execute(query, tup)\n",
    "    conn.commit()\n",
    "    print('삭제 성공')\n",
    "    cur.close()"
   ]
  },
  {
   "cell_type": "code",
   "execution_count": 37,
   "metadata": {},
   "outputs": [
    {
     "name": "stdout",
     "output_type": "stream",
     "text": [
      "삭제 성공\n"
     ]
    }
   ],
   "source": [
    "getAllDataFromDivtbl(conn)"
   ]
  }
 ],
 "metadata": {
  "interpreter": {
   "hash": "38ae1ba9371524da054e8e3fbefd778d16b5a8ac7937a3f395010f627bb73919"
  },
  "kernelspec": {
   "display_name": "Python 3.9.12 64-bit",
   "language": "python",
   "name": "python3"
  },
  "language_info": {
   "codemirror_mode": {
    "name": "ipython",
    "version": 3
   },
   "file_extension": ".py",
   "mimetype": "text/x-python",
   "name": "python",
   "nbconvert_exporter": "python",
   "pygments_lexer": "ipython3",
   "version": "3.9.12"
  },
  "orig_nbformat": 4
 },
 "nbformat": 4,
 "nbformat_minor": 2
}
