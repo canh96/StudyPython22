{
 "cells": [
  {
   "cell_type": "markdown",
   "metadata": {},
   "source": [
    "#### 1번 문제"
   ]
  },
  {
   "cell_type": "code",
   "execution_count": 1,
   "metadata": {},
   "outputs": [],
   "source": [
    "# 1번 문제"
   ]
  },
  {
   "cell_type": "code",
   "execution_count": null,
   "metadata": {},
   "outputs": [],
   "source": []
  },
  {
   "cell_type": "markdown",
   "metadata": {},
   "source": [
    "#### 2번 문제"
   ]
  },
  {
   "cell_type": "code",
   "execution_count": 5,
   "metadata": {},
   "outputs": [
    {
     "ename": "KeyError",
     "evalue": "''",
     "output_type": "error",
     "traceback": [
      "\u001b[1;31m---------------------------------------------------------------------------\u001b[0m",
      "\u001b[1;31mKeyError\u001b[0m                                  Traceback (most recent call last)",
      "\u001b[1;32mc:\\STUDY\\StudyPython22\\ref\\강동현.ipynb Cell 5'\u001b[0m in \u001b[0;36m<cell line: 6>\u001b[1;34m()\u001b[0m\n\u001b[0;32m      <a href='vscode-notebook-cell:/c%3A/STUDY/StudyPython22/ref/%EA%B0%95%EB%8F%99%ED%98%84.ipynb#ch0000010?line=1'>2</a>\u001b[0m dic \u001b[39m=\u001b[39m {\u001b[39m'\u001b[39m\u001b[39mapple\u001b[39m\u001b[39m'\u001b[39m : \u001b[39m'\u001b[39m\u001b[39m사과\u001b[39m\u001b[39m'\u001b[39m, \u001b[39m'\u001b[39m\u001b[39mpineapple\u001b[39m\u001b[39m'\u001b[39m : \u001b[39m'\u001b[39m\u001b[39m파인애플\u001b[39m\u001b[39m'\u001b[39m, \u001b[39m'\u001b[39m\u001b[39mgraphfruit\u001b[39m\u001b[39m'\u001b[39m : \u001b[39m'\u001b[39m\u001b[39m자몽\u001b[39m\u001b[39m'\u001b[39m, \u001b[39m'\u001b[39m\u001b[39mstrawberry\u001b[39m\u001b[39m'\u001b[39m : \u001b[39m'\u001b[39m\u001b[39m딸기\u001b[39m\u001b[39m'\u001b[39m}\n\u001b[0;32m      <a href='vscode-notebook-cell:/c%3A/STUDY/StudyPython22/ref/%EA%B0%95%EB%8F%99%ED%98%84.ipynb#ch0000010?line=2'>3</a>\u001b[0m name \u001b[39m=\u001b[39m \u001b[39minput\u001b[39m(\u001b[39m'\u001b[39m\u001b[39m찾을 과일의 영어 이름을 적으세요\u001b[39m\u001b[39m'\u001b[39m)\n\u001b[1;32m----> <a href='vscode-notebook-cell:/c%3A/STUDY/StudyPython22/ref/%EA%B0%95%EB%8F%99%ED%98%84.ipynb#ch0000010?line=5'>6</a>\u001b[0m dic[name]\n",
      "\u001b[1;31mKeyError\u001b[0m: ''"
     ]
    }
   ],
   "source": [
    "# 2번 문제\n",
    "dic = {'apple' : '사과', 'pineapple' : '파인애플', 'graphfruit' : '자몽', 'strawberry' : '딸기'}\n",
    "name = input('찾을 과일의 영어 이름을 적으세요')\n",
    "\n",
    "\n",
    "dic[name]\n"
   ]
  },
  {
   "cell_type": "markdown",
   "metadata": {},
   "source": [
    "#### 3번 문제"
   ]
  },
  {
   "cell_type": "code",
   "execution_count": 6,
   "metadata": {},
   "outputs": [
    {
     "name": "stdout",
     "output_type": "stream",
     "text": [
      "2*1=  2\n",
      "2*2=  4\n",
      "2*3=  6\n",
      "2*4=  8\n",
      "2*5=  10\n",
      "2*6=  12\n",
      "2*7=  14\n",
      "2*8=  16\n",
      "2*9=  18\n",
      "3*1=  3\n",
      "3*2=  6\n",
      "3*3=  9\n",
      "3*4=  12\n",
      "3*5=  15\n",
      "3*6=  18\n",
      "3*7=  21\n",
      "3*8=  24\n",
      "3*9=  27\n",
      "4*1=  4\n",
      "4*2=  8\n",
      "4*3=  12\n",
      "4*4=  16\n",
      "4*5=  20\n",
      "4*6=  24\n",
      "4*7=  28\n",
      "4*8=  32\n",
      "4*9=  36\n",
      "5*1=  5\n",
      "5*2=  10\n",
      "5*3=  15\n",
      "5*4=  20\n",
      "5*5=  25\n",
      "5*6=  30\n",
      "5*7=  35\n",
      "5*8=  40\n",
      "5*9=  45\n",
      "6*1=  6\n",
      "6*2=  12\n",
      "6*3=  18\n",
      "6*4=  24\n",
      "6*5=  30\n",
      "6*6=  36\n",
      "6*7=  42\n",
      "6*8=  48\n",
      "6*9=  54\n",
      "7*1=  7\n",
      "7*2=  14\n",
      "7*3=  21\n",
      "7*4=  28\n",
      "7*5=  35\n",
      "7*6=  42\n",
      "7*7=  49\n",
      "7*8=  56\n",
      "7*9=  63\n",
      "8*1=  8\n",
      "8*2=  16\n",
      "8*3=  24\n",
      "8*4=  32\n",
      "8*5=  40\n",
      "8*6=  48\n",
      "8*7=  56\n",
      "8*8=  64\n",
      "8*9=  72\n",
      "9*1=  9\n",
      "9*2=  18\n",
      "9*3=  27\n",
      "9*4=  36\n",
      "9*5=  45\n",
      "9*6=  54\n",
      "9*7=  63\n",
      "9*8=  72\n",
      "9*9=  81\n"
     ]
    }
   ],
   "source": [
    "for x in range(2, 10):\n",
    "    \n",
    "    for y in range(1,10):\n",
    "        print(f'{x}*{y}={x*y: 2d}')"
   ]
  },
  {
   "cell_type": "markdown",
   "metadata": {},
   "source": [
    "#### 4번 문제"
   ]
  },
  {
   "cell_type": "markdown",
   "metadata": {},
   "source": [
    "#### 5번 문제"
   ]
  },
  {
   "cell_type": "markdown",
   "metadata": {},
   "source": [
    "#### 6번 문제"
   ]
  }
 ],
 "metadata": {
  "interpreter": {
   "hash": "38ae1ba9371524da054e8e3fbefd778d16b5a8ac7937a3f395010f627bb73919"
  },
  "kernelspec": {
   "display_name": "Python 3.9.12 64-bit",
   "language": "python",
   "name": "python3"
  },
  "language_info": {
   "codemirror_mode": {
    "name": "ipython",
    "version": 3
   },
   "file_extension": ".py",
   "mimetype": "text/x-python",
   "name": "python",
   "nbconvert_exporter": "python",
   "pygments_lexer": "ipython3",
   "version": "3.9.12"
  },
  "orig_nbformat": 4
 },
 "nbformat": 4,
 "nbformat_minor": 2
}
